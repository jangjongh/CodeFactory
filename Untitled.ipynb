{
 "cells": [
  {
   "cell_type": "code",
   "execution_count": null,
   "metadata": {},
   "outputs": [],
   "source": [
    "import pandas as pd\n",
    "from selenium import webdriver\n",
    "\n",
    "def screenshot(num):\n",
    "    num = str(num)\n",
    "    url = 'https://service.epost.go.kr/trace.RetrieveDomRigiTraceList.comm?sid1=' + num\n",
    "    browser = webdriver.Chrome()\n",
    "    browser.get(url)\n",
    "    browser.maximize_window()\n",
    "    browser.get_screenshot_as_file(num + \".png\")\n",
    "    browser.close()\n",
    "    \n",
    "trk_codes = pd.read_excel('tracking codes.xlsx')\n",
    "for i in range(0,5):\n",
    "    num = trk_codes.iloc[i,0]\n",
    "    screenshot(num)"
   ]
  }
 ],
 "metadata": {
  "kernelspec": {
   "display_name": "Python 3",
   "language": "python",
   "name": "python3"
  },
  "language_info": {
   "codemirror_mode": {
    "name": "ipython",
    "version": 3
   },
   "file_extension": ".py",
   "mimetype": "text/x-python",
   "name": "python",
   "nbconvert_exporter": "python",
   "pygments_lexer": "ipython3",
   "version": "3.7.1"
  }
 },
 "nbformat": 4,
 "nbformat_minor": 2
}
